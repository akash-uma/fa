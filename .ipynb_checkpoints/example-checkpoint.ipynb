{
 "cells": [
  {
   "cell_type": "code",
   "execution_count": 1,
   "metadata": {},
   "outputs": [
    {
     "data": {
      "text/plain": [
       "array([-56606.5867704 , -54472.37420774, -53800.21346351, -53532.05982603,\n",
       "       -53367.71940353, -53261.81252675, -53198.86611286, -53162.70898516,\n",
       "       -53139.50204004, -53120.74865324, -53103.09783703, -53087.3054443 ,\n",
       "       -53075.50984755, -53068.21295574, -53064.21490072, -53062.0993701 ,\n",
       "       -53060.9353799 , -53060.23751091, -53059.77507419, -53059.44032049,\n",
       "       -53059.18139218, -53058.97176242, -53058.7967569 , -53058.64756082,\n",
       "       -53058.51846191, -53058.40551534, -53058.30585635, -53058.21732212,\n",
       "       -53058.13823027, -53058.06724119, -53058.00326813, -53057.94541599,\n",
       "       -53057.89293812, -53057.84520499, -53057.80168098, -53057.76190668,\n",
       "       -53057.72548537, -53057.69207234, -53057.66136648, -53057.63310346,\n",
       "       -53057.60705031, -53057.58300084, -53057.56077197, -53057.5402006 ,\n",
       "       -53057.52114101, -53057.50346266, -53057.48704833, -53057.47179249,\n",
       "       -53057.45759996, -53057.44438471, -53057.43206884, -53057.42058167,\n",
       "       -53057.40985899, -53057.39984235, -53057.39047846, -53057.3817187 ,\n",
       "       -53057.37351859, -53057.36583746, -53057.35863801, -53057.35188601,\n",
       "       -53057.34555003, -53057.33960115, -53057.33401274, -53057.32876028,\n",
       "       -53057.32382112, -53057.31917437, -53057.31480068, -53057.31068219,\n",
       "       -53057.30680233, -53057.30314576, -53057.29969824, -53057.29644657,\n",
       "       -53057.29337845, -53057.29048249, -53057.28774805, -53057.28516525,\n",
       "       -53057.28272487, -53057.28041833, -53057.27823761, -53057.27617522,\n",
       "       -53057.27422419, -53057.27237797, -53057.27063047, -53057.26897596,\n",
       "       -53057.26740909, -53057.26592485, -53057.26451854, -53057.26318575,\n",
       "       -53057.26192237, -53057.2607245 , -53057.2595885 , -53057.25851096,\n",
       "       -53057.25748865, -53057.25651856, -53057.25559784, -53057.25472382,\n",
       "       -53057.25389398, -53057.25310594, -53057.25235748, -53057.25164648,\n",
       "       -53057.25097096, -53057.25032905, -53057.24971899, -53057.2491391 ,\n",
       "       -53057.24858782, -53057.24806367, -53057.24756522, -53057.24709117,\n",
       "       -53057.24664026, -53057.24621131, -53057.24580319, -53057.24541485,\n",
       "       -53057.24504529, -53057.24469356, -53057.24435875, -53057.24404003,\n",
       "       -53057.24373658, -53057.24344765, -53057.24317251, -53057.24291048,\n",
       "       -53057.24266091, -53057.24242319, -53057.24219673, -53057.24198098,\n",
       "       -53057.24177542, -53057.24157955, -53057.2413929 , -53057.24121501,\n",
       "       -53057.24104547, -53057.24088387, -53057.24072982, -53057.24058297,\n",
       "       -53057.24044297, -53057.24030948, -53057.24018221, -53057.24006084,\n",
       "       -53057.2399451 , -53057.23983472, -53057.23972945, -53057.23962904,\n",
       "       -53057.23953327, -53057.23944191, -53057.23935476, -53057.23927161,\n",
       "       -53057.23919229, -53057.23911661, -53057.23904439, -53057.23897548,\n",
       "       -53057.23890973, -53057.23884698, -53057.2387871 , -53057.23872995,\n",
       "       -53057.2386754 , -53057.23862334, -53057.23857364, -53057.23852621,\n",
       "       -53057.23848093, -53057.23843771, -53057.23839644, -53057.23835705,\n",
       "       -53057.23831944, -53057.23828353, -53057.23824925, -53057.23821652,\n",
       "       -53057.23818526, -53057.23815541, -53057.23812691, -53057.2380997 ,\n",
       "       -53057.23807371, -53057.23804889, -53057.23802519, -53057.23800255,\n",
       "       -53057.23798093, -53057.23796028, -53057.23794056, -53057.23792172,\n",
       "       -53057.23790373, -53057.23788654, -53057.23787012, -53057.23785444,\n",
       "       -53057.23783946, -53057.23782515, -53057.23781148, -53057.23779842])"
      ]
     },
     "execution_count": 1,
     "metadata": {},
     "output_type": "execute_result"
    }
   ],
   "source": [
    "import numpy as np\n",
    "import pandas as pd\n",
    "import sim_fa as sf\n",
    "import factor_analysis as fa\n",
    "import matplotlib.pyplot as plt\n",
    "from timeit import default_timer as timer\n",
    "\n",
    "# simulate from a factor analysis model\n",
    "fa_simulator = sf.sim_fa(20,5,model_type='fa',rand_seed=0)\n",
    "X = fa_simulator.sim_data(1000,rand_seed=0)\n",
    "sim_params = fa_simulator.get_params()\n",
    "\n",
    "# # fit fa model\n",
    "# model = fa.factor_analysis(model_type='fa')\n",
    "# log_L = model.train(X,5,verbose=False,rand_seed=0)\n",
    "# fit_params = model.get_params()\n",
    "\n",
    "# cross-validation\n",
    "\n",
    "model = fa.factor_analysis(model_type='fa')\n",
    "model.train(X,5)\n",
    "# start = timer()\n",
    "# LLs,zDim_list,max_LL,zDim = model.crossvalidate(X)\n",
    "# end = timer()\n"
   ]
  },
  {
   "cell_type": "code",
   "execution_count": 2,
   "metadata": {},
   "outputs": [],
   "source": [
    "# # plot fa fitting log-likelihood (no cross-validation)\n",
    "# plt.figure(0)\n",
    "# plt.plot(log_L)\n",
    "# plt.xlabel('iteration')\n",
    "# plt.ylabel('log likelihood')\n",
    "# plt.title('factor analysis, LL curve')\n",
    "# plt.show()\n",
    "\n",
    "# # plot cross-validation curve\n",
    "# plt.figure(0)\n",
    "# plt.plot(zDim_list,LLs,'bo-')\n",
    "# plt.plot(zDim,max_LL,'r^')\n",
    "# plt.show()"
   ]
  },
  {
   "cell_type": "code",
   "execution_count": 3,
   "metadata": {},
   "outputs": [
    {
     "data": {
      "image/png": "[encoded data removed]",
      "text/plain": [
       "<Figure size 432x288 with 1 Axes>"
      ]
     },
     "metadata": {
      "needs_background": "light"
     },
     "output_type": "display_data"
    }
   ],
   "source": [
    "# get latents and compare recovered latents vs true latents\n",
    "z_fit,LL_fit = model.estep(X)\n",
    "z_fit,Lorth = model.orthogonalize(z_fit['z_mu'])\n",
    "\n",
    "sim_model = fa.factor_analysis(model_type='fa')\n",
    "sim_model.set_params(sim_params)\n",
    "z_true,LL_true = sim_model.estep(X)\n",
    "z_true,Lorth = sim_model.orthogonalize(z_true['z_mu'])\n",
    "\n",
    "plt.figure(1)\n",
    "plt.plot(z_true[:,0],z_fit[:,0],'b.')\n",
    "plt.xlabel('True z1')\n",
    "plt.ylabel('Recovered z1')\n",
    "plt.show()"
   ]
  },
  {
   "cell_type": "code",
   "execution_count": 7,
   "metadata": {},
   "outputs": [
    {
     "name": "stdout",
     "output_type": "stream",
     "text": [
      "fitted psv: 0.3689430597293236\n",
      "ground truth psv: 0.3711250597356475\n",
      "fitted dshared: 5\n",
      "ground truth dshared: 5\n",
      "fitted participation ratio: 3.68\n",
      "ground truth participation ratio: 3.72\n"
     ]
    }
   ],
   "source": [
    "# compute fa metrics\n",
    "fitted_metrics = model.compute_fa_metrics(cutoff_thresh=0.95)\n",
    "true_metrics = sim_model.compute_fa_metrics(cutoff_thresh=0.95)\n",
    "\n",
    "print('fitted psv:',fitted_metrics['psv'])\n",
    "print('ground truth psv:',true_metrics['psv'])\n",
    "print('fitted dshared:',fitted_metrics['dshared'])\n",
    "print('ground truth dshared:',true_metrics['dshared'])\n",
    "print('fitted participation ratio: {:.2f}'.format(fitted_metrics['part_ratio']))\n",
    "print('ground truth participation ratio: {:.2f}'.format(true_metrics['part_ratio']))\n"
   ]
  },
  {
   "cell_type": "code",
   "execution_count": null,
   "metadata": {},
   "outputs": [],
   "source": []
  }
 ],
 "metadata": {
  "kernelspec": {
   "display_name": "Python 3",
   "language": "python",
   "name": "python3"
  },
  "language_info": {
   "codemirror_mode": {
    "name": "ipython",
    "version": 3
   },
   "file_extension": ".py",
   "mimetype": "text/x-python",
   "name": "python",
   "nbconvert_exporter": "python",
   "pygments_lexer": "ipython3",
   "version": "3.7.4"
  }
 },
 "nbformat": 4,
 "nbformat_minor": 2
}
